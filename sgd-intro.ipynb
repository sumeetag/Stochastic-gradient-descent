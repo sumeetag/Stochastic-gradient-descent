{
 "cells": [
  {
   "cell_type": "markdown",
   "metadata": {
    "toc": "true"
   },
   "source": [
    "# Table of Contents\n",
    " <p>"
   ]
  },
  {
   "cell_type": "code",
   "execution_count": 1,
   "metadata": {
    "collapsed": true
   },
   "outputs": [],
   "source": [
    "%matplotlib inline\n",
    "import math,sys,os,numpy as np\n",
    "from numpy.random import random\n",
    "from matplotlib import pyplot as plt, rcParams, animation, rc\n",
    "from __future__ import print_function, division\n",
    "from ipywidgets import interact, interactive, fixed\n",
    "from ipywidgets.widgets import *\n",
    "rc('animation', html='html5')\n",
    "rcParams['figure.figsize'] = 3, 3\n",
    "%precision 4\n",
    "np.set_printoptions(precision=4, linewidth=100)"
   ]
  },
  {
   "cell_type": "code",
   "execution_count": 2,
   "metadata": {
    "collapsed": true
   },
   "outputs": [],
   "source": [
    "def lin(a,b,x): return a*x+b"
   ]
  },
  {
   "cell_type": "code",
   "execution_count": 3,
   "metadata": {
    "collapsed": true
   },
   "outputs": [],
   "source": [
    "a=3.\n",
    "b=8."
   ]
  },
  {
   "cell_type": "code",
   "execution_count": 4,
   "metadata": {
    "collapsed": true
   },
   "outputs": [],
   "source": [
    "n=30\n",
    "x = random(n)\n",
    "y = lin(a,b,x)"
   ]
  },
  {
   "cell_type": "code",
   "execution_count": 5,
   "metadata": {
    "collapsed": false
   },
   "outputs": [
    {
     "data": {
      "text/plain": [
       "array([ 0.1221,  0.3829,  0.4685,  0.3863,  0.5388,  0.6117,  0.9014,  0.8605,  0.6426,  0.0875,\n",
       "        0.426 ,  0.3872,  0.8343,  0.3434,  0.3341,  0.1108,  0.344 ,  0.7151,  0.7322,  0.2191,\n",
       "        0.2012,  0.1603,  0.6279,  0.3752,  0.5868,  0.1222,  0.1049,  0.7985,  0.0689,  0.0319])"
      ]
     },
     "execution_count": 5,
     "metadata": {},
     "output_type": "execute_result"
    }
   ],
   "source": [
    "x"
   ]
  },
  {
   "cell_type": "code",
   "execution_count": 6,
   "metadata": {
    "collapsed": false
   },
   "outputs": [
    {
     "data": {
      "text/plain": [
       "array([  8.3663,   9.1488,   9.4055,   9.159 ,   9.6163,   9.835 ,  10.7041,  10.5816,   9.9279,\n",
       "         8.2625,   9.2781,   9.1617,  10.5028,   9.0302,   9.0022,   8.3323,   9.032 ,  10.1452,\n",
       "        10.1965,   8.6573,   8.6035,   8.481 ,   9.8837,   9.1257,   9.7605,   8.3667,   8.3146,\n",
       "        10.3955,   8.2067,   8.0958])"
      ]
     },
     "execution_count": 6,
     "metadata": {},
     "output_type": "execute_result"
    }
   ],
   "source": [
    "y"
   ]
  },
  {
   "cell_type": "code",
   "execution_count": 7,
   "metadata": {
    "collapsed": false
   },
   "outputs": [
    {
     "data": {
      "text/plain": [
       "<matplotlib.collections.PathCollection at 0x7fb5fd8a4750>"
      ]
     },
     "execution_count": 7,
     "metadata": {},
     "output_type": "execute_result"
    },
    {
     "data": {
      "image/png": "[encoded data removed]",
      "text/plain": [
       "<matplotlib.figure.Figure at 0x7fb620189e10>"
      ]
     },
     "metadata": {},
     "output_type": "display_data"
    }
   ],
   "source": [
    "plt.scatter(x,y)"
   ]
  },
  {
   "cell_type": "code",
   "execution_count": 8,
   "metadata": {
    "collapsed": true
   },
   "outputs": [],
   "source": [
    "def sse(y,y_pred): return ((y-y_pred)**2).sum()\n",
    "def loss(y,a,b,x): return sse(y, lin(a,b,x))\n",
    "def avg_loss(y,a,b,x): return np.sqrt(loss(y,a,b,x)/n)"
   ]
  },
  {
   "cell_type": "code",
   "execution_count": 9,
   "metadata": {
    "collapsed": false
   },
   "outputs": [
    {
     "data": {
      "text/plain": [
       "8.7326"
      ]
     },
     "execution_count": 9,
     "metadata": {},
     "output_type": "execute_result"
    }
   ],
   "source": [
    "a_guess=-1.\n",
    "b_guess=1.\n",
    "avg_loss(y, a_guess, b_guess, x)"
   ]
  },
  {
   "cell_type": "code",
   "execution_count": 10,
   "metadata": {
    "collapsed": true
   },
   "outputs": [],
   "source": [
    "lr=0.01\n",
    "# d[(y-(a*x+b))**2,b] = 2 (b + a x - y)      = 2 (y_pred - y)\n",
    "# d[(y-(a*x+b))**2,a] = 2 x (b + a x - y)    = x * dy/db"
   ]
  },
  {
   "cell_type": "code",
   "execution_count": 11,
   "metadata": {
    "collapsed": false
   },
   "outputs": [],
   "source": [
    "def upd():\n",
    "    global a_guess, b_guess\n",
    "    y_pred = lin(a_guess, b_guess, x)\n",
    "    dydb = 2 * (y_pred - y)\n",
    "    dyda = x*dydb\n",
    "    a_guess -= lr*dyda.mean()\n",
    "    b_guess -= lr*dydb.mean()"
   ]
  },
  {
   "cell_type": "code",
   "execution_count": 13,
   "metadata": {
    "collapsed": false
   },
   "outputs": [
    {
     "data": {
      "text/html": [
       "<video width=\"500.0\" height=\"400.0\" controls autoplay loop>\n",
       "  <source type=\"video/mp4\" src=\"data:video/mp4;base64,AAAAHGZ0eXBNNFYgAAACAGlzb21pc28yYXZjMQAAAAhmcmVlAABUNm1kYXQAAAKuBgX//6rcRem9\n",
       "5tlIt5Ys2CDZI+7veDI2NCAtIGNvcmUgMTQ4IHIyNjQzIDVjNjU3MDQgLSBILjI2NC9NUEVHLTQg\n",
       "QVZDIGNvZGVjIC0gQ29weWxlZnQgMjAwMy0yMDE1IC0gaHR0cDovL3d3dy52aWRlb2xhbi5vcmcv\n",
       "eDI2NC5odG1sIC0gb3B0aW9uczogY2FiYWM9MSByZWY9MyBkZWJsb2NrPTE6MDowIGFuYWx5c2U9\n",
       "MHgzOjB4MTEzIG1lPWhleCBzdWJtZT03IHBzeT0xIHBzeV9yZD0xLjAwOjAuMDAgbWl4ZWRfcmVm\n",
       "PTEgbWVfcmFuZ2U9MTYgY2hyb21hX21lPTEgdHJlbGxpcz0xIDh4OGRjdD0xIGNxbT0wIGRlYWR6\n",
       "b25lPTIxLDExIGZhc3RfcHNraXA9MSBjaHJvbWFfcXBfb2Zmc2V0PS0yIHRocmVhZHM9NiBsb29r\n",
       "YWhlYWRfdGhyZWFkcz0xIHNsaWNlZF90aHJlYWRzPTAgbnI9MCBkZWNpbWF0ZT0xIGludGVybGFj\n",
       "ZWQ9MCBibHVyYXlfY29tcGF0PTAgY29uc3RyYWluZWRfaW50cmE9MCBiZnJhbWVzPTMgYl9weXJh\n",
       "bWlkPTIgYl9hZGFwdD0xIGJfYmlhcz0wIGRpcmVjdD0xIHdlaWdodGI9MSBvcGVuX2dvcD0wIHdl\n",
       "aWdodHA9MiBrZXlpbnQ9MjUwIGtleWludF9taW49MTAgc2NlbmVjdXQ9NDAgaW50cmFfcmVmcmVz\n",
       "aD0wIHJjX2xvb2thaGVhZD00MCByYz1jcmYgbWJ0cmVlPTEgY3JmPTIzLjAgcWNvbXA9MC42MCBx\n",
       "cG1pbj0wIHFwbWF4PTY5IHFwc3RlcD00IGlwX3JhdGlvPTEuNDAgYXE9MToxLjAwAIAAAB8RZYiE\n",
       "ABH//veIHzLLafk613IR560urR9Q7kZxXqS9/iAAAAMAAAR1HNHnmrI7bLsAAAXbLdkHqYjxAJKs\n",
       "FmFO2xWYAfkOp7MhcseCjRLjnkwuqD6urhuVzVIlFK+b6YnPdoAxSpQGilCP/Ml78pBhB/zuIJt3\n",
       "Wv503r20r7TwVo8f4d/nHUtyHp/hZ58cVqPHuEZZpJu+YhrpNpsO0TjwFh6sl+8DKnENnRHlAvVF\n",
       "RT6NN/MYqGd3vvx3ElS6IdwJ4Pz5QDrvwzoI5RZ6cuIDgaDqoC1Szq59W7biM7KRB3AHfDTETHry\n",
       "Hvv2zJeGFuF7f7X0ZDlDGE7Ds3rvFXTMZ9ZgU84YWB5m5AyxFiUoty1O3N+vT/5RHfZ70CY3g9+O\n",
       "+1gFHnvffsJTMLDf1oIJxpBqW4KBvfNUOMRZrQ4suVtf7t1uZ7/w9yiiOZfKVFT9g/i94Wfj7oUP\n",
       "FBSfTFih3EIM5S919jweuAqF6SfmvjmU+9GqK2+XiQa1fGn5WhRAip+d+jjfeMsoHJwMVnSbPqnH\n",
       "cvhir10kU8KhHsC/eXhrKMjGCIV/ckj/+0agcPvAGEYpq//v/ekJZE+SkWVhchnrF6erDB7Yyt6B\n",
       "53yEvg7/PYVmfMYHOFlEez43ZvvAr/F0GLS95MK2rGJjDRIasl9VY/o9+HgvOUALOiNofJtqlD7v\n",
       "rkmuBqw8QBNvbXPtf0ez5uRI7sUKox7v/nmwYYL6CsoiUmBtBUvv/SZgT5FKJ1N3K1kqHeeGoDa/\n",
       "6AJJx+q3zgnu15MRKBsUHqP0t3OrptNrvI39YeDjCehKLbZiCBG2bs//vVyazxHEAHtTdfoNHuiS\n",
       "NQn8T8n/8ZSboGKHrp9xEjbcvhJLJlOBVB8A5boKTUc9Cma3dFT/6WPQbnRcZS7pXrcf/ambxch1\n",
       "g1oe7xh4T209aXgfw88BlzwIhW1ZiSLJf7rJmRFO4hN2Yb2MDGVkSbzAh5TnD+i+rW9E6f16FLKY\n",
       "wz4gJDMuWm8loBTcOtw/qEoVSVgZ8PgSgX2ZZJcpglH6gFBt2aT08l1/TnmMLkVHPvpokdDlzlWw\n",
       "lHMZlWT8dycifotOroUDCB/1tktyh3gwzz/R0+Dc8kY4kPhIz7NNQQJxUEg8LcPOZ2VPQk7Ix/Cc\n",
       "TgQY0G64r28aU6S80/TI3J4dPEck3wCpTA5EOi4WfuOd2FtVJx9VVnHKGXH6UnOXwyFMUev8ecxY\n",
       "eaT11aoSFmUGl3/iwGwLaoYvyuQE1k6e4/BamM1msg7+woQC7g3TBGLEbJgCW4/4CFqTCFPr5pxn\n",
       "WrNSAbVeQ/7WbFFjgYKR8//P610M57b3B727Ug/n9hzo5tI2fNAm6eZAsSICVnp5nI0C6JNq2WYW\n",
       "+Hzi9DRlskSEonbx3+1Dryd31s/R1X1t7OlggD8yLiQgrsvBLDVLZRPAmTSb0YQY+s6uNomiLJVX\n",
       "ZByLVRwQpT3ywFa1L6aA5Vhp+WpMGFsmRKhoaXX+GZ4kVxPyXdF1JBj82DRJXQ/7a4AEJiHhO2Y0\n",
       "hnQxeoVSL04CxS/RyQfP5rUGcO+OuVoHgc/a9w54J6LF/nWcw7QIqloi235cZS/nj8zhvrdRgiYp\n",
       "aSMMKHj7w9PvsF2lyLZfcyZY7rFcErJwpQ5txZ/UmpRywycns8HXYFIcWSux7eRL1nkRbiW/jZK1\n",
       "aFNbquj/stvoWXY3g2yBUoNTy+Vx1eVGfyGWpqdk9vJR/p/T0PQukp3XzgsSEaUhftdC5QuEoq+5\n",
       "3gRWpmBVGHrwBdIgf9jYdiVfuen12x82+JUdzm32y3GoiNqavwMxdajkATs/5QrHm2aBBK/G7rdR\n",
       "gsLK/Y5IemJspD/OQGE8duZ4RPTyoH8uYbNLkhs2nEKvsLbhN2ww5URKISF4MI4ztROsLwwTB10R\n",
       "TQ0tqBiRVG5nwySSMF+OmYeA9IbgtpbgVGNtcRf/s6oTqPmOooo2Blt/DjWKHwMjO60tRFlxi+LU\n",
       "FHkBe6YNaxBAFu1MuESilVAisO3Jeh0dtVZSajXikNxbPwYegzOVo4HcFFLhACy22ImJfqih+z9e\n",
       "KcwPKIybosM0Q1okOEaWjd3izn8jbuj+x4dryMqCG9HI3BBknHAEoCjOgw0sVBIL/rnNidJWw8rZ\n",
       "iQ7XIYPFc1x/899DcnTZNXILAzi35wd5n5ZqE243Gfwxwzh0sUTVuTyv1pn8D0SJ1mTctII4H0Ao\n",
       "gomo7rr3bXzNBqBEhpOeSrbKvkJdi6wTxLbJOUXcass3+sfMCfr+YcHc06ZTvwDj1GaMmJcSPSX9\n",
       "G16W8sP7FFEnYgXUWS6al9/5T05kbJSCBeOWGw0AC9fmgTEfwzx/IjAACYnxX29Pa4P+m3Pk0euL\n",
       "OymxpX8x6XR95eDf2g4S9JbVx9EJrSzW1Qd+GNlHmak9MSEO3CTi0Mdlx69pxifYynnJoGVNGzMj\n",
       "ID7VfSMyDUw8Y2oXCboYb2jeHxN2tptrrXDKfumkEvtoXnrL4WDUth2jkChsnazhED83mLO8pNYG\n",
       "+usgzdVRoFDC3OJlk+kw/wR6+bDsqBEZQagpueBfNlb2W9KbFFSBU26lNsYLo5Q6xxb1SwAPn1di\n",
       "6zLAV/jwNv0dPNmivLunj3FxIFHJUgOCQJ8/n5Fsdp6KaO1TvVeHNVU0tsBnACfATF5Q7+NFn/wC\n",
       "PBxpMbvluLEL14mt1+XLW/qqGkAYF7dZdyVEgJ8a/wsgAF7tbCC3zudUHBBTV0egFw4AY2y9qMp+\n",
       "XyKrd1dXaJ3invu4OE9RhAL7VDHuu2fWg+GMbxSWmJ+f3IEGl/X2mdjvAqGrOcYTMJekrmEvLNXc\n",
       "BsWy7RLzwpq3hB8BL7EsYzVG7284AfsTdMCZJLnSrVR9hUk0j3fec9fjBWL/YpdolSMFjULHsOnF\n",
       "AkFPs1SvUWge3JfOCOe4p5jEQzeQnNW37Y39rLLaa+Rn6er6ouFXQrtf/EtxXdWqIYQFpf2aNPpv\n",
       "KubrwxbJwuEgeP1XzA8rt4w2KvmNjjj4wCIuPVAFuQ8m/f9TRM3rwH8cN+Gq0UdDo+JAVnyZJODC\n",
       "zulZjwx/c3j3wNwpYF1iaq39CtX3Xy1v5+QYkY6an5XBAkfH1Jc8JDFuo0KJ6aB06ot062CvaalU\n",
       "srFajeq6Kqd8iNOR+KbYtWzaRN3reBVseGD5KshlOY5Uu9E06+C/HNHSgcekS2rCsEDdpWDuydU6\n",
       "vdDLTVGqxqNqC5CIyZgRyN/cMvt/EEswjdcj2xBJ81bMBawSp+0j5JWAe7dSQhDQohskdYBUkgWy\n",
       "PDDBUlB3Fto5vv+BbOZ/lBA13V4RqvARe4nmGZOX4YkuUQKp4ol/YDlH+C8DeqKPMlAPdzE1hGxt\n",
       "wY+3vn5gLsn617BRPYcnvGVqmB1fgYYJYV710na3XSS2To7QFSOD/O4M2HgciZGInGJ67CvmAOfS\n",
       "PTJl8EUrbqF4jf/DRHatVNswfWuRPiSp8QCrkVrabkV0TV6NZKWIHdPvdd1kFlwLqfqxCjoWbXH7\n",
       "aS2p9P/BE7j2t5Ad1fYw0fnAt5q7ZXqLL6fipE+O/baiPusrxT2McPAv06XxfcmxojHWyg7QsnHq\n",
       "6MaIYWFb1bmOfgrrvvnqRumJ1sUCfb2tBL+YyzAGdpxMiWTvWcXOmplCBZKEmLPOTXTHyl3p4EKj\n",
       "XFEepaL8jtoQ23z/dSHVVqd8bh0KWZNBAzG0M0waO7JI/z2V/xb3VvKy7loG7kk0hAEXOt/+HUEf\n",
       "LL8O1LK+sHi7Gk0OaEAColQ1HQMHM1uNIda885/RK17ML6HOZRrjaf41Zq4h3NUo+cQ/62TNuPAs\n",
       "mrbaSipqEOVg9juIc+3/kUVkOrlXSqQNa7XqnlrPFpomixY4yats5/EeMVq5+9Gp1UqpQqyHGJZp\n",
       "fQ5eWKZk6rSdI04cjtTWCc1XmWi0eHIZmaonBun98NEnjKwygY2U2n29RpATEE/EEwgo8lvzWKww\n",
       "MT6xwI8qqfwDqd6731Mjv3ex5bIFxri7FaMZUp0zI0jruqHzQYdOaxaXteIV4ZT/07Rfz5nda4LM\n",
       "78AKG3cpa1ySvqNEPiA+wn6BrsnRZt3GyAT6ygnfdZvTTIQOaJJVADdc7aNdzM9SGeyAAHm3Tm3M\n",
       "j3oj6FpKC1Xy6kpzncMiq9lDMcjU+i89gGIKOHNy+7JYBJ1baxlX0Ose/PNTq00dqkOO1Gv3w25k\n",
       "UGt95E4ki1Yi19sJXmxCwpxqkCPyg7reBlu/qiGb86xSijRuKK+2qq2yq4UN423y/h3hWqNoIzfi\n",
       "I7vu+FtUAR/3C0rvQWdIcUnD18tIapWz36tqGX/yD8J9j4P8qu9DkBJFRGdil01lCUUd35Wf6Zxp\n",
       "tn9KeK+ruG0+ueXor4vRccysLMJOsLHBENroruPdSkjbT7HZ1JF7sc7kFsGR6m/fXvHXQucWZxig\n",
       "vfGGECFdlitO+9UmrZhZHPHnnPoan0XkxBQQ6WDDqwFgh4Mt71ASct0YDun5PZPGgX2+Eiq7SEmd\n",
       "x9Xg6L+UtKel9Pa6O7G5vpRrqEXEL0EIo75/UQDKtrhz2QvtRQ1EI0HDUn9M/HfVqRDP5e2OMk0i\n",
       "dIDrntVXFNggVKsIOxJPj6olzgXpZaqLUR5IRIUxASKxlZjrgvT2AC8T4j7xnFnu12wp26HRPG+3\n",
       "GyNPFyXtGTxCXQRcx3ea3F9heuuqev7WPy8dt6E4/O9yAeOUuRn+9PYJEdXUr6AWbBC/1pVn6P42\n",
       "57lfwRzcSGBhb9BsTvxcLg1cqdw1fUEMt3JO8n74lyvg1hWZp6+AcklKohMCnBYo+qu6/0uDBhzV\n",
       "X/xOmRDYaiKCjgAc20JRNMbbmhaE8Jdck/JDINkRwopqetjuIszUGc5mXjB8jwi3EBqPzrZC2yce\n",
       "P/rC3lXTOq3D1wehg2YBgx89/95WbcuAL7ews/+srf48blmg7uN1rEcPhS9Rf8rwBBSxwMkuZMSa\n",
       "Ohr/ZV7OZOsPWXtS8e5Y29RYxLzPdwVoQYrhhdDSgAVRr7h2fEG6ZYRlPb3Xho4JiyKvhjIl+KtA\n",
       "5u4xGkOWWeus1sgEPJRT4ydByz81SFzPrBRQuWhhyNeF4Nyoge91NINim/yI6zC5LBMlSL0vTE7P\n",
       "p1ZqzrDB7koK3Me3vjw6b7hc5uZwa7c1/7x0Ip6Nf/HmdhnusIy+KPzoYzztJt2VZYsYELMYp1Vp\n",
       "dTIGGFJCaAIdnYu2f4THoOr0R3oGSmyOUIkXwUgqGuS0Y3h8p72pzeETi3L2W9HZ5tKeERnakbcI\n",
       "Ag3Lgvs3TfQcybpztkhoNsLzTW+/MTG4zsamrX4phD4F9uCFderyP8ZlhtcWvOQ1wpOxJfsDRO95\n",
       "NcndJHkayXJKVHBejHFZ/9g6J4CbPuzgpq523NJ7iMrqVqk30jOhJEJ1NKZvyUNnnEyE6ualjsA+\n",
       "/V4ilPYwdIIIEbjtZ1grg931nx/IC30RXlDUUT3oBJ16BxjBxeGdYVCYXx3Enxh+zl6suwi4AuzI\n",
       "mxN/a14vmbS1oviL6OPmlXkNeyg9Fpt4rkMr/8k9KSWKGEXkJ1fWSgEyLZEuGRdJtnPjxV2Aj6R0\n",
       "iV5sV4s1omGDz/GZvG/i5yYQ12mozDNQ2NM4FXHWQ0x/MD6L6W/BkVERIIuWMFl8yizBWeAo79M4\n",
       "2RCR9S/PxB6W3e05NCIny/p6naLc9BxHxA83qXs572ObqYDn+AHzULBsvIawOS3YXmDU//SC/0I9\n",
       "/qmrx+jaULZl9ZM3cZX7tWrbAKghlckmmRtWFaszXMiLUJ6oVpf1c/w2y9J/8tt8+ex88hTLpcei\n",
       "bZWAvcHiRpdOlKTlGn8uA4IFgXu7L2x3ik9nHYJ4uScDoJ+9lXCtdNQpFfGyXRqH3i/FBnH+xydB\n",
       "KXQK65KTrZ6iKAIlXhr6BWIzZqJViOqGvv+Dg2lC/ReU3xyIAQ2z6pMBTTQESlWqvLKVmA2TyLzo\n",
       "+SAgPnWBcmo5M4NfcoMjT1bajUxGdDBI2/9LCEDsNFEU+BEdD2BS4Nj2nW9cYhoiQ/DPgtO60AL+\n",
       "NmL5eFr4BkkAv9azhvu5MFpnwx5e3nkiyNYmjmqYMsA+LxohZ0VZQOVsANTGPZjss57bmi55n9t1\n",
       "VyJ4cV//TN2fG6Cr3XmEx7cppBmnrFzZzDAb/xT9/0AlqAju/B7vmG5B05GrrGDW99d6tCWBDQBM\n",
       "L5zAZc9emedEO4Zg9dZuN+wgHaHZ1eApHIMUx8sEbELE3a+ekEeZkFgYZjQG3cFSHqJpiXEkg+3/\n",
       "y/NpYQYc6+gaxYLXmAhSIfP5a+YKQT1Ii6SlWNArUfc4rsAbrVXMsnTxSxK43YhHXyEkwASENie1\n",
       "TjJ1LgwN7Ei/ACz9MqYZaVnhPsu2HwyD9yfyMiBNgWihYqWTD5ojqeSaU1wxZHR5CWZR1OeV+I1f\n",
       "kiiYaM0Vy9AGQlty0WIBCUeswES0OgxyIwyo2dzuyKMt8yB3zmTMeXgOL8qkcLbansb0Yr7I3bdh\n",
       "qGAS+4CSnPaQ9jpyCvAe9K3ShYoEJfKotS21lDPpc1Do1StkXRYrxUBkRi7Px67qMOJCvN6LWVDu\n",
       "/Xnmxv7lrsmErCTe4ZECcbyir7/QOb2oBWohKEa8roobAHUwtZpnohELOZjSrlvE5QVxKv8FG9iA\n",
       "508kpg1f75gRNpFia32rYItLOvnMAvMgPeWnrTAFzcujns6jQihsizMAumFBMPWwjc1I9h/OI0Je\n",
       "+qlFUaQXPaL+iXC/2CmPbTAXXBH3SzmB4pjIq63qYVmi48yPvyvbIhDv1jnpSBOCRiOQ/VvQ/fXF\n",
       "l669LtPo9uOuyytol4A2F3AJHcVfUNNkq/V8hO4XPu3WuUjTammFaPCK6JGIyWhnLN6w36x3h7ox\n",
       "ZlAKJk/K0H+piLA7aqKMeJJwaM4rsVGOigJo4xk8Bisl9KhLixt+oT3cfAzBgyKb/FqK116xsuZl\n",
       "ikJ5frDtkAqHorvji8FkyyioakyxlvZp7Np65MG+j/Ls7ZXKYJIEfEp+fm61K0NAlEYuQY/j3lAQ\n",
       "bHn1OrOdD4WTmi1zGD+XFCqKaX3EWZ7VcISMpj150W7Pdk5OkEpCP8HVgDGdlNUCuA6YEJD1YdEM\n",
       "GHWEakr2g61nmhhp6/EBGF7tHQ8WyWjd7N6cozBjkg8M/kkdYp9qQBHL3IflIktj0uPj/5whEjiY\n",
       "1KZI8Z3e+lyDibEKqHGXYm0dckiz719JpxF0CbRmL0RyIT0buDW3Iz+0B5SUMn3ch4VNl/TQcJa3\n",
       "KB3AWGIWHmFIeO1vIjJfK/n9vJA4p6tfrQ4QDy4FxL3eRX8/P/omWU+RbIOqgGvLL62oppJeDF+e\n",
       "KFRsmZeAao6IKIU9O0lOkBoCTpbF1iUe0lvkTvTQTasdm2T4/qnYRWyBvNXNtd7cwnzO04rFhEMt\n",
       "DKA0S65molPJyS9ra0JJdcHf0wzEXHvxf8LN4Hxse21sXcTeL1yg8FmAqc6jqOYw2bytaBvxw0aB\n",
       "UpmS/tJ8maVx/BD95QLYnwpVqV5mKZsspfR4sg3O5/uYKxkc54A1waiyKhCsFi7Z4GMAhfZKK3gL\n",
       "ofwSwbdghX1FWpAqbebCnB5RpJ1H8V14x8gL2Gabe/mmGAAQRbtubSq9us10OYWwdc98uydxbwa9\n",
       "lIq3C0LTqkp0MvkcBu+pfyfWEEUqmPyAW6bYyBRwnFxGQAkrqS1lfmO1RYvZLAx7sfuHIFLTlCX0\n",
       "DZ6m0ryNd8ineaWFS8wGMTF5PMJ3r0R48+mOCE/YxszODPIEPKnAnoghoiKycIRNNuc18PKmn4q1\n",
       "8119Ks1RtwPfqgY226WmB1/WYXypQ/vXuB0AJ4q/HoTGC2OkpSv5V14o8ubC2IPL+xcEsZbVrsWg\n",
       "JEV4WNBbGZN+aKLoaz2XAxUTuumJgeHvLfDOGeNV9O4JSysYoRWZ5HQPtPyxX2FenXnt6g6Zn1Nx\n",
       "4Dpr6d9UDkc0M11Dz5YIBflrsKxdxJF40myfj/dejAPBvCewrK/WQMm7lLzV3TSxuxWxHpEsxS83\n",
       "zCYL8B9XW7T4FVTd+0Ll0VoDSab8XomQQyVAItg4zOdwrksu7Kzu6Tga0r0bXW4DfbtZmAtcX5aU\n",
       "wGC8MuG+otjIlOQHF9q6inca/CWiTkJuirnnxt27s44skRYIU11uvYqoAuDJFTV1yZj3PDk5WCkT\n",
       "qlq42sTONR1lc73fXUpXIoa7XntZeJvIX8DHBPakynci1uQAoSMiQ5w3P4wj4SGAAJqa/lc0FeX5\n",
       "e86g4VLO8LdRBjin4iA2EHmy/QexZQjbAFOpZZKsFf5zd1iPAquShhqL7kXceW+pYQJTwgp+dFO6\n",
       "xDnfScc8ju2BkVtcyc0Vg+nl8EbE9TtWT45ivPXpnrkBNNyHstEz9kvSifDLIFNNMGvUGj/tl/Jb\n",
       "qWY1UqQWbByKtES3poZ9hRgaBwIuWuDr5yabYSXMYRcf+bLAxkzGPFKMW4LF0qw6DrwzpIjgrEJ8\n",
       "MoZTwkCSzGaAJgWR7VJdmnWOmjm6AdEAa5Wt3XAzy4+19xWDlJ2GWEB9R9SMfn23uq8JWfuzM4aT\n",
       "5Az5PQ+Rv4j76e86KymbHoaRKM/JrvsADYbx6Sa7QcsiqRNlInNz9Wc86lES7mzvlcTs+g/2g7a2\n",
       "Hk0Zs3afz9cJLjb5VjAiTG6nBJkDJzQnX3Ru8mb44QqTFrqNrztW0gCLF227eAp4TkPgDX9mLaH6\n",
       "h6OS3YzYyYNR3jh+iwijcEVhgs8fEXUoPpWr1Fl7GGM/f7zXp80iSVGFHhTH0rpRp9w00KHo0G0K\n",
       "gy7R2dcYkhCWuf/LR/JfPjlsNdPmRTto+8nzX5zbfVrsySzPu6C+XFAMjZ7MZdkudkn52RtvQPqz\n",
       "oOaiR1G0L1F5gGkXqL5NsxDCUe0BmLd8PrszxS7bUr5FAhLAQg2D3siQLoxSEZzf16ZndrqJ16RO\n",
       "m2zU/9L/87KIpIcr9t0C0wD2cMoPPaaxIzsMhBG8agz3+Ewe7myFM3eNywwOwtHjqnBfdPh0C25F\n",
       "8EtTG7GaAWa0MtHcYm8Y4VYVWrc9K84OAwtFSlD0MfmI7caN0nRDVgYKW9sH+5qGSMlywy3UfmuK\n",
       "AeffwKhyBH/3ziHPAiieLmVaiLMEdFpVXyIncebGqORNGzcd3iQ9W/2RSMgKFJMqjZa1qSHJBZI0\n",
       "bRspJhAyf6f9dm2yznYwCYD+CD+Kpqj1ZRrPZ88fewqWIOcAdIVGeVCe3ccUtm7Fz7KiiwSFCrp3\n",
       "WTMKASZsUHa5AetEoZZNfEDPDVnmcE9W40lj+mojri4MAWWCa8YE8uRXDv3dwx5M92zssCAAz/4+\n",
       "H0znU8PFuXCG7ws4T6pYAEIB49uVz/X3XFNLKUm2WCKKw2WhAo9Ez5BWmExzK2fI/YFJ1yZnXh1Y\n",
       "Leh6tR6XZIBh5pk7XXkZaYSZIy5/r4fp5aW8d2kR6Uln432fnyt5FNBW/yg+HXzgHqV80ae136Dj\n",
       "tZdUZ5Up0XrIZl4VXNzwengLJWB1kS5AwNbBdey2SZEhR9BTnfxJWoTnkEWMoS+hsheqg3y5kT4k\n",
       "RSibraB0bH1JtBu7mjJfGhKnEY+zm7zWEUJH1rxnDC0xEyAa9Q6nXRj41n5KpOxoC6raCR+T0VLY\n",
       "Q9qZPdSaDsLEaLdqF0N14gK/k2JgkRRcQMf2Tnkqcw2SHH9nzb7hDgWHgOm03pVVxm68WPwFjmW1\n",
       "w/xE6TCv7dUoQKWT0q4vnGEibL0HLNbKSZ1jCx7Q/Dwr1qYUarfUtK+2f3dNBvLclGPcmNR2Z4QM\n",
       "Ny+IJ+CaZtQsb8fczN8f2QNpxjB89I+56/0gwPxeGiWvb8ADwvQjcSxK9ZcJS0pqgEyEzmARakGY\n",
       "TQ1vRjLaajCeYGZIt3Kpjm10H1aky3tyVAQhOncPbE1DdYtf6mZat7AMpm5C7hp4gUYpBlBUl9Ye\n",
       "Hy6s6QBJpPBk690woc/51JhSMX7DQ93Ck+kPQp0zt2ZAxu16xgoSCS0sOBbeLggHXZsRtv2Klnza\n",
       "Hnqh5YIMur1DIBhe87rTn9wf3nbojhUUueiFT2NnszSSQZkncMOoM8dYtjbKAfeGnR+eUrRs1eVy\n",
       "N/xJKRHIvydywLtZgp+FfO8whUqM1DiDu2jP/efX6mCNvzL7h3SH672fByx9IV5c5Rt7BZUN7anW\n",
       "OhxJt8Yf0xGAqVIvuQNdGDiPl92Stn/SNodqISVbdsU24WoTQa48TotAdQFzAuS4umpFB75NMSW7\n",
       "fuhJZulEWhpVoYx6+xRDMQ9gkXBiCCRrPeqITa/ibQIRLaUpRj0/5LcLvJyAWue3qMsQreR5EjoO\n",
       "Q40MHHIP7vuq8keSb353KM0YrF/Zgrq2dzKREF2WAYIYKH2XNc1Obyc0SXUhcK95UP3SPwFm6YpR\n",
       "/a+onMl9FzDHdXJzxGFlA1kmq61S0e0E/hilLTDm0gJKr7N4kqa23jLvrqmiSmlEVvmgeq/R7SoB\n",
       "cNS8DYJHplVtmXbHUAHyQ1D0jQORaYZIipkLG+5gnKttUNXilaDjjsGb3IUCx+sRiWLTshofegYg\n",
       "drHxexzvElRUUjifFM3EckZOp+Lx60sQ3a40wz/amSuDQgtqPqwMn7TleDuHzk+F2sBvnkriZDfs\n",
       "nz6diVRkp7RqEP5amw3YDBhcG8ZJf1cAAA2ZAAAEr0GaJGxBH/61KoALuOGDAEt4ohCvy4iWfXMH\n",
       "4Z12SXaZRQfd5DXZNxEMm9vHvNBZvQBYpZ9KPqOvMCcZafkpnzD7IuunjwQK7MIfS4evff/nznrI\n",
       "YTUQXX1FhotNA0d4WZl/1pKjn9GWfCm/X79KHpuMT/0Jk5pTHl9h8M5ejcxI5qF9+wRazyfTDFiK\n",
       "kBgpoHigrQ2sY7sR4F6HGtILaWxqy4Mw1g6Mb73wnGQkwKKje7qS8tYDmbMkBvT+LqeO8FPyH3UW\n",
       "spDwRSm7fF62VdENqPbIJAPfCPvEVsYsXktSdtIu2sRHIqR/Mz+tJ68zCth04uYTYTkdNvmAklzt\n",
       "wu6zp/Ug2Mye6RtJvs5bI1XC2qigncIuMv6n8KGup2K7JuHcFfT6b2DuocUXH00O48DqJeAxo7+v\n",
       "mzoDjaOP+zJvvb2440xDtn1rsn94BQgd8OO6vSaDh20A0QPEMuuTB5i5lrc/sYDZdOEa1j+FgmXH\n",
       "sUpAllJ8nun5itZbNF4VuvJEaBhCEKkP3VpclHwr+YuydH8aZe3iicrjQ/m//Mz2Fcg5sFL+eRvz\n",
       "tcBEk4bbxkioXcUm+EpjoxGZUArDjGmazl6DTSRoGU46IogxTZ0UyiiORE7MleJScbao3E4BV111\n",
       "4j7WsJojgYaWeCWMWif05wAe27nFvMaxsR3x01ScA8PO9okf2icqJLdfqEMXLVGuo8YHRbFD10WN\n",
       "IDK8khx1BVNW5lJ5z0T7/ImV3kMJMlRic5V7VSdcAfxZ6kxPhTqId3l2dJVOtCBqI7MJ5AFwjbxj\n",
       "DIJq3Q2mfZL65rsUXGdjjH9E16RwGFt8vh20XNLu6g6JnPOcu1XN0wBlj0sQj81PRccP+dFqzZne\n",
       "ibO/i/+wgSLfJ03I6GjjpNADwN6UpF4IMC1iDNVUHIPXjELHQZVc1e6Lvocb5iZQaakZ00wBGGBr\n",
       "OijHq306+zYmXjti2Tqxz2ak6OXmYEXuaANFiNsDJ9moZm1esXu8ubQR8GPevKuq6n/sUQMQ9fDf\n",
       "Vdepg3fibrln4XqH2TTClr0SfNSKXqMmxbaS/P93OEXBr5UvJjeoJQnThovZK7nXXFmhKHP1FPyn\n",
       "ShXvA29/ATR9Ik6/sjAf/zL9fHe8bHFIO2wjGfQn5dHeNvUpqLd3ts2c/b1Qr3KY7bknhRW2i0Hg\n",
       "fHBkILU1NTCGUUvwfnv71OkmH5pLlNSfrNoD6QxYO4hCOFKY++77HpcVka9ddwcQZa9kooYNb64L\n",
       "CkCRAsYbvAzxGHhffXLnqLAjVUjXYXKGR/Iq4J0XRqG0bFmmM1pJLAv8MMHZFnsNsp+6i65Npl0C\n",
       "diLapqrRDaAAFHBpS9CQqDUjZPrsr/fkiljlGicVtQN/49VYz1I/FjK/jJG52mCYUcLcOzjwhxO8\n",
       "yQnwodbpy9vXAR4EVDD4TfwSLgUwSDFfTy+NTBBQdcXUXAgh1cAHOTXQnebyfO1q0b1U0cCLyp2A\n",
       "6l0IJYC/34LRhndz+5XK/Auxrdns6pPK/D3qozPi82S7xfO9kDc727c0TcOYu97hpUUUOMnN2Hsa\n",
       "2ej1nUw8cAQWu+u75nckNUnKLIX/RSk0wtkDa3yVRWDAAAABUkGeQniHfwAJrABdrJahxCpAA/ld\n",
       "AxQHh3kM6DJBpoUzLvtfkzKMh14I0eKRxI4xbUCaLW4QEtNXdoiVoR0hpzxbDIfCqrA43hWOItSl\n",
       "izLQ1cBvYLjcKUI/mU7eVsa2nReTaJHX1zVFeMhJelB8x10R9sqW8I9stxmzT+T2fhjqEhiXmq3n\n",
       "E8iQxGGI6w5WrC+9tIcwrgG+9CKGQqbz33wR8A5uTOanPf/B8OEyidrsQDB01kR2QDR2+e85RbWJ\n",
       "IoxJIr8U18YTOVXuVaVV5h+8UW0m7Forz2J+jXYF6WYws2BsXLKhYtGj3gsxKTb3aPaDGPWdP+5F\n",
       "6n4C7yzBk7Dla6bRSnuVMpVvjjL23XmzikgIAh+tu79pAHYZGAVcKQ/4+/jqArodMaJ1wxbQAaqX\n",
       "9UijyFhqYGNe2SRtgLNm8EJ7eJLUrl6pt5exEw+UKMSBAAAASAGeYXRDfwA/gNJUgxGf/DQAOG/t\n",
       "TbC+mmJ3JplfiSAnuUN+/Ew2hchlD6w6LG8YBuIKezbAmTlZZxOA4utwiirHDNawRnRe1AAAAD4B\n",
       "nmNqQ38ADdF2KKNLgBMyAPRYgIkpX6ZMOY7lnCidepZ4wSkJqTgTte6P79AsRxhcHlWH/dS6gKAI\n",
       "uDurjwAABDFBmmhJqEFomUwII//+tSqAARgt6LBsQARCTM+PA/uv1S11LNXq+dRt9ED/zTYLrSTi\n",
       "5GCt3y9XeSv093Rs7D+fXV2+FlwrdiQUx/hixN9Oa2Y+hib95F3J80eZw6KN1js18N9QIASJSAR3\n",
       "/1UoHAR7RS2ytQu03qk8R+6F4VadJazTYzAqDfrDXbLuo+xXT45yPJbbOBsxbsM17VMMYCksfNK2\n",
       "lMsi6Ohg6J+aR8eqavzMQYGqQz0AUrx0q8BprQSvxuzT37L1tZzP1Mwy3VYzNufHEVwuAymTlo0F\n",
       "gB0jfCn/DZ+JRwfWPU/HYjBsju8CqdlLJQWHlpPjNUA7BkAcD+wBVKdy557u183/Njwg+JbFuiub\n",
       "3w3ZYcMpRn45EvzMKDOxTgGvuTnLJTt6lkUnm6LnHYMcV8pUrm5MxUwHpNR2YVGsDJGRDxRyY5gn\n",
       "6MNOMWTmXL0a5fwLqXXBCGv6zPcsuxtuZSMtD77mcNfZomR66AVWLBCGLtm48VhGPzL4vqLfbBYy\n",
       "+s9N9JYQJvhvgsNG2QIaUPKNka1YQ70A8F/zwNGyFpck+aDah2AR1U16k9y86oZR2xbLKq2hFHZc\n",
       "j0YqSs5uDiqgxm7BeYXZD6X8u8GHhQ3iefs+dx4gB7DTXrxM06HEDBSge3HmaYkw4JJ39xX8evcQ\n",
       "yKbshJELb5NT500GDScKNLo0nrwcQcdlFphI7oH64PLA2DKcHswypBIxkV5IZb2y7AL926T7Nleu\n",
       "hZlC2FyceCyQvxklcmVLJFKiHiRq/1V3FF/Q9+gUfNUuPsCb4cUs169r2PKEpowjya0YSWSs/4Vi\n",
       "xxfaDRM7Ly0P6kCYLMquPk6ZDjNdkUdYkF7RxfRBktDtROwz3eTMjr5f+O6WRa9Ibk+QVaaNyR8q\n",
       "VAwwYf5tFQ/+skOCxOITagcSjE3Gffio/A2/TBxl5r1z5vYv5/PkqJ1dAXG7+hjW1xMQohio7Lp3\n",
       "IUihR1yzpjv7JvJkgSl4S07Fj5tLAs90AGZbfaU62YWGW0I3t3WSNxN+Kw3uDw5tqcIzBvOVl8a+\n",
       "hN2onTLPT+KcoyRmtxyKePJi98qr1/3ufhcjB9HwruzTeOow3mvsA8R0t6imKSp4noIbFGdTdMzf\n",
       "iT0FEEVxG7c/HiQV9pztPPX7TU1EnI71WB45BkTjGmUN1xSP8vSqF7GNFcgshy7K2OhjH3k9FAEt\n",
       "4JSrc/tGTGnBMwSqmX1ti7UuF0ds/XUzIJ3QdZ/ZtA6JxiS4966Y7izOe15U08QJCsxrHIqOUUTz\n",
       "9vCnLrPuFR+JgUWb56zs5D1p0ohhnjZXmq2qtnYxretl39U5zJCg1C4H2GTJbbBWx9Xa1oyWHB31\n",
       "OvxrxM0xkUG20SkY9+Vqp0WFlJVj3avlET+Sm6P2C5tMS8uLl4DoLAQ6daUuX00OVD0n5PGQgQAA\n",
       "ASZBnoZFESw7/wAJxSooL12rL6JW9VQPg7KQAk6fHRxH5pZVULV1nuxAH0acJDwQxqBH2RKDSyOI\n",
       "sQoy7Prsfg5e09KAoqbFR3XmXWAj79ymqhOfQ9VZ4xdiHxfDyh94NdDVcqh8EpxG7e30shSIFS0R\n",
       "FonzwmAxmMMe1TmasPHs5ElQOWHWY4vxGSMRqiiIfn9wzob+ShFJ/+3ruD8eVUMWVuTcfMKorlWZ\n",
       "/1DXKSw5SL0qDTHFQCv0UGSEJvg/6VFLuqwFOmbQ+C0FaMsDQfXOVrF3RMn3Wo/9EpITvPx/1VgB\n",
       "6YDSDNKbY9t7W1Pf0i3r+orAWRuljwTfi5yRlMT55l9Q9vwk3gHhi+aJWaWFTPpmXG2UhjGHBlS7\n",
       "jaOBuZ4omLTPoeEAAAArAZ6ldEN/AA3PWACxBKzsGAAhWMOI15DVUKGr3nccKxDrswIIodSWxgAP\n",
       "8QAAACgBnqdqQ38ADdF2HNVd71gdJd6JOrS9Esle9fK7hgALqAXP/AjogBlwAAAEUkGarEmoQWyZ\n",
       "TAgj//61KoABGCy++VSACE0H2gkSNSI++zwkq6hyTNIh+05pmCJsP4TgK6wU/0MjMWm+6rHLFk6/\n",
       "bcg2qelVXNecKoPUM06ggYpMkh5Nr8WBPEbjBlO9a1FaXsjSPtXVzFH6nu0FprQ6jnqxAX1SgzWY\n",
       "eXE2b8MMJu2uIsXD7Rz2In3t0WoOFBufUzu4CY89DjOlLD5JFpxphAANvJPzLwuPjdXCeeoaIpk9\n",
       "4thiAIj/K6Mo/bynGTzukXtkGntKHaZT8NZ+ylrJEZ2hUVP7URsYV1wuGsRKVarc/B0Hgn8SQ6+C\n",
       "Irpn8Pfah6/DWebXNyOVHZ0qn2s0I345LDeiSwPTKsc3hgSIUzV9kvBo+GeszNUGrcLcUK7f0mKE\n",
       "0NwqunyQBbWnwH2ISkcuPzTnzIphQ02junewhxA9vBU0+PoTjvvpIH+kDkrUnACuXKeGxTowEyDy\n",
       "88gU7waJqFh5WvP/WtUxkKHtNhwene/etcFK66lvzMd4BtDo0XAl3umCVm86b8Z+rejhDj91B3w4\n",
       "MTgntFP6AjWUZF7qVlEShZpHgga3YgKiHFOz/Diw4AHYiONxGtTWEoJQvKJ/e8Qjs/Kv9FrAfqtl\n",
       "dozvKec6M6ySKmnW4CeIKoxU3WDxNQp/XyPse+xdW3BEsgEJ0DbC2wKIATNwRcLosij85QJ4L6eH\n",
       "3RbPIATPtYAc7A/kBimaHvFDxrkgTBhT5MjA61tlJ2ARq5dmpa4NqoO7BBrKO8wSEuv+5kzzbchy\n",
       "DAlF0Ptc6UTk8iS7DkFdHHcL/ptrMLJS38WAWKKZQsOqkCe731u7MSlxTGiklRHJXXBDs5WSi0os\n",
       "IzhFO6P82X4VJrj5f8e2ycjQzg4iFPIUf1/nV0iB+POkHvNs5N4qYtI1hykS3H0F4QIzZ1vib8mf\n",
       "PYgK9bNqzSJcOgq9PuTjOsdiNnJMNfVHwNQTfErh9T0l0g8wBNbLvUBpHVQrIALveIw9pkHKXshz\n",
       "AMlp+QhqZOxHSIKO91dlv+4xRQuD0bG+5uKu+A6zd6HV3lWeIHXBEKIgWAo8/4rqwbYN/gS5o/nA\n",
       "8u314bcpRWrz19BVasKI61LbTRdfMKoZU7tNp9ePFssteLdgEELtKAGT/ebvmNmYPG00vNmQ7uOb\n",
       "y8MpT53woiGAt3fNowJiY27BV15VEVVPc4ZZ6ef//6IxjtEsEVsF1/JONMpxSnyu1rOgBLNiJi2S\n",
       "ycxhdI/NtgwR+H/OP22u0Jet2OWXGXxj1BKCf6hASwOxVO4vi/4B6lnsQxkru/XPt/IW/iK9iNod\n",
       "T//2B5XnBTkDZzB7uAckxXBJN3vknpRRosAf2a53TfhHd6/PVYpxHzkZNrDrdmvJYcDaCODTfjJu\n",
       "sqxVCUCio1dr0nx3s7PcnR2UlaplG2slpd4H5aPxLGHH/8SyDbtoSEbaXZlkWFQz7HNerhNi+icj\n",
       "yDbW8fe7wY5jCUxRL6KoAAABJ0GeykUVLDv/AAnFKg0MPQeACE+lYEW0b6paX8P7Qak+r2/cPcCx\n",
       "EQ7AgtWKh7n6uGESwg0MazdlrrQVllfjEt5EO/voJWCeU2Mlp8HGtOfaUVcu9myYVpWi6Eep0TkN\n",
       "23nfXHk+0IAJVpxbGKYW+t+nTnaQg+79gnc0g5yssSjg937UyteU+BNSFyHZIg6G/hgZXA3HMdKg\n",
       "dT7VjXoYB3ZEy5uKeP7rK3U7Ib3hTUmo04KEKSX3pf7DgQd/gKLYpAi37/ybDp5C9EX/zIK2+kKO\n",
       "028qSdXulFz0oadnBacgVAG9LJGX2AP1043r5HePzhR1sovnZPb9ekh6MRmx2LqRZjSeVFkZ4/Db\n",
       "d6+N2rjyDACC+jHYjdqlh94Uyuam8PcCbzIFr00AAAAcAZ7pdEN/AA3PWACxBEf54pCzdHLdzPz0\n",
       "8wAKmAAAABsBnutqQ38ADdF2HPUWs0cqmgS08EqnJLIAIOAAAAQCQZrwSahBbJlMCCP//rUqgAEY\n",
       "LL75B8ANuIZYMpFR9cA39CsXYQHqrNUqVFyyo89oIO8JNvxV/DDttetB8fdJTxdFU32opr7fuNbP\n",
       "tDHWRHFROwexgYsmU0H5sH9PnNpZOtumqZPB/bPLnKE92BOkni0/iue0kLBmMIOgb8gxsLYrxPfj\n",
       "OO0LVmtk78V7j/2zJuMQ4Jw35hIUI/ahwMbR95gDjXCkgwGHdCWCP94BwZV3PjCGbjljRQhdA5kh\n",
       "cgav6JcPfxkaHyuYRZkb4v7ND1E4uL4VPbHINJwPrSjgY0CnnKTpn1PboLpxo/3jB1SxhBBBrbzc\n",
       "yw2nc6gkY+IIN0bUS4GzzuOmBLzupgXNHut1HWpkwzGJbHvVZWAImpNKmQBHoNUnLahxIIzpz8RR\n",
       "d60diafY+7U4o6+ZvWMhofHhxt+reYe64C92cpAL9kmNaKG8T3/PhC3GhetzdDHxhmj+tYDdcaeN\n",
       "XWFHJWEvaDlvT7m1x6KPnJ0+AA1uMihgLQIEsyV1QW/C+S6/q4XxQ8/vj5QRJzRuqH7d2ORy0giT\n",
       "g/LJDjmB8NyMk4BQU8YfVpWrIJ0HX6aIuxSJa22ylJBI2W8hMm/vbVlkB8b3FxWlLkeuhonRrsdq\n",
       "u72Y6jdL3B8/iqOJ+82Jk/3GujhR+S5dSrZDkiMPnSXkQE8BVd+q9314nPDBoMVPhOCNu6qAigfK\n",
       "FNtxxPiZ4sTaWREhl17yusrCCYuJv3Ia5kqHO3M64yLVwPRcTrBVo1Dfuz83RF1KwpOOFxdPQmmx\n",
       "ubnUnIWf/97MysiuaGkd8ZDqWWRL34WCR1nGTvgyuaccv8i6IDvu1Ni2n8eUOaTC491+aOHb+whu\n",
       "KKjuPKKu/R5C6qXMamETV4Xzchc72sYP7VQG2kJ5zHEA3iEf3J9b6LbTPGp1hvxI/bj/59jFivyZ\n",
       "8lYbe7ScJR1jxEpnKjPe6uol1U95h5rJ1F8Q5fzgJ1I3xeFJRmlUloaPdts9LKds/fm01NZ9YF6C\n",
       "8ozfymH52Zn5z/A8kjU4D4uyPbg6J8SGUm1cgjAfthARomipihgmybQrHCcfhPGNI5RYBWbEv9qE\n",
       "dr3bxKkIyKMb1PgJgwFmBwSQUEeF+cisIYYBl5zFw2hbtuhBFYE1ry2CCRdBrT+dFHWob7E+9SNG\n",
       "XEZv+1SHg1zskvddJZ8RrTyIov13FTD8KfUhUUTN5W0K7IUwKLzJ/3R+U3lHJsimylWxH3KlvgBO\n",
       "3jBTfDkt1dZ9GB03Ap3ARcxOyJQop3dU8v34Oi5TPqHf6fVpla4HDkNa6MMcAA99MNyt+4RffjK+\n",
       "QhCDJnlsAvmt/e+8i2/tlsgyFWIY1GDlyduFIG+qWmJd+vlGvGrhAAABFUGfDkUVLDv/AAnFKigv\n",
       "9v/kdxSVwAJMnAD89CUJBpQqt9m23X4YPEWuO0x8KWkchm7nPS0OjezuXBCMnhcTkRhsr9kD4z/U\n",
       "BCXDmYsjJdcebvURVIy1neikIlf5UvHv1Z1OS4K20ttCb3iJu8xQhZmGzOeF4yo2J3XCKv0KC1Kt\n",
       "2+53ap7sslwZ6AYbVTZ+11jkhCe+nnqpFJs7a2rWgd3ZiQoHvM3tWGwOntCB/q5ID7rjZ8wjjF0Z\n",
       "B61fz3ehF1hWZyt6GaMw3c/wRr+Bv64E/q0gxQ52YXN39pYsuV1jkkSY6y8vcyym0Eo29ZJ83klH\n",
       "V1Jcxzlky2RHho7eQ7SA241lOE/4c7IqWsL6ULbx2oZgFTEAAAAhAZ8tdEN/AA3PWA9Pgb8Evdhn\n",
       "5bL6ygjGkM3IQUoFogH/AAAAHwGfL2pDfwAN0XX9pytH2sEI+DsPe1DSTSBPQBIAbMAAAAP/QZs0\n",
       "SahBbJlMCCP//rUqgAEYbqWADdkaqbz//yQmLJZhNKe+h2/niMPJLxJ7uOWlmqdiT0eSJNZv+wPj\n",
       "cRlu6/Q67bjruz2OZzqWUfqBeJ5VPS1Gv/xXVl59W5N2hKNgRQZoMih3dNpk9XFHln4PEPRFOFZX\n",
       "YyLHgvXBd2SHs9at5TjyPz+AtZ9X+sktJx98502CTpCsf3nWFmKvmsB8hruTD0hv4hje/DrF1DGs\n",
       "Nr4NyYIPU1HhQvR0i+KvbDAINFDsGukcRVXNIc1PB8b/ooRC01TtmuFBqmvWmtq5PW6uO3DoaVHs\n",
       "epjU9WVw7ivyNvpGfyaiCtYtzHKIwFGCCZQc5J/g6oHdfYbjqMh4vSRkK2W5G39L8+mD5EmR6iw6\n",
       "72AyinHnk0/wNhM4Jvqo/YNtRGVQLk9FQr68R40p0aRfwQxqwFZ3K37R0oufcEoyCVEKFnp5ObpO\n",
       "0KeCRyhYGr8cyszeuImLdlDPHJPQGj5qxt0+gEFKM6T6nbfp5axCUUFxKVrnCH351SY6XR8F4QSu\n",
       "5Alxgf2gTUb/VN8q56SIVTppWn2yO8aAbdBbkbFp+I+lmn6t7gYcIabh3vulcEoeiGzQLTJQ8a44\n",
       "v0Chd0fxl16VhIhQBhlcQ5kEriYO1i2Az0EEdz+zhjxmknKuU5nwInLAbcogno6qhj0ABBM70q9P\n",
       "JfCxs6mkQ0xN4hFNEitH+9rL4cscpHpPJixxhb1M/SpaH1FZbOvKeboFYV+ubWJmGyM6yVvCtG/h\n",
       "otKtebrOjXNgbVhQYgKZdQ/3mJLCSY5J6uVVK0nCyNEyY6XdJz4Zm/nNcdFxJo1yrmAVwSYawnMY\n",
       "8Ib+GdO+A2qmdVZOtD7eXciLN+hIuVFc7Jd3YMalAv49lU4xeZ1orIC/OHUuYWyMLyiDKbZXGudT\n",
       "6ulCSCwuYPvZHGk6PwOoPH+10RdMEhFV5zrCXlBVe6BCxfzJImkNrPDG+ErJwWpqAALjsUWKDlXv\n",
       "VvEd7eziDkvD19P53WI2Qx15M7iAkXSV64ezwD+1EN3miq9bHTVTvMhA0FQGGMMhWy4a0QZPxic+\n",
       "snVaMFJ6qAfn99f7hUkf1B/awhi3hlRvua5XAKkjWEXaHHI0I+tYLEBL7FdLjuLkNzMBUaKa3dxb\n",
       "kbYCji/cnHXuY1gqeKeTkH/Om1i6JppL166KKBuMez8yoNhr3fMoNp2NStCIhX9bzUsm17nuil/o\n",
       "CdtD7SAt+s879BzMPDCEkrTX+rrP05lutbRyYGxEAX+kmNNliS7DpY17nEYZz28eHDmPIxkWgQyU\n",
       "Wop95AlaN+CmWn/1e8R8tWT6GMqDZc+7SCXfBpc1+SD8MAYsGgYYU71IdhmS6TQXNsOQAAABKEGf\n",
       "UkUVLDv/AAnFKh9V0AEQB+xj9sioN9fbIQfsN3bvlWYN4WQEAEZvvFl4l3D3axbnFd+3qT46TYo2\n",
       "7Yn80TNecD+0DUA0K+tsMDQJE8zIkHwCCZnGg0cUk0adQlj6xFrbCjksNGlai2JDE2tynx53DAHr\n",
       "P5sUEHQW0Xi1IJolLz8Qx/AkCmCuETfnKB2pNK9FxowftQaHPcrhJWTb30pf2lSB2nIwbv3Nkfn7\n",
       "VeI/0rTFdhw/Bp4wsyNLytow4uZ+xpADTse/rB1Kv8qDYXuvQtircLQoLMUMKHNsv2Khd4luojJy\n",
       "D56FX04bkCw6mamsskNrcsGazwqbFEK6OVvcqSP1U9/+gYoZXPUPwc0pQZgqtseSnErNlmMQboCF\n",
       "HOEU70bfB6g5AAAAGgGfcXRDfwANz1gA0Dn/yqUWikW3WI79oAUkAAAAGAGfc2pDfwAN0XYc8ZcS\n",
       "s2TKwmBLarBgQAAAA/tBm3hJqEFsmUwII//+tSqAARgsvvlUgAa+MymR+Cw4io0eA1N4fpHNmtnq\n",
       "P883IbFe/VZ6XmYNcVvLWHgT/i80d8SxTThYu/L7fC/m4/XNwTfppwKE/Kw5OLc8VDHnwgXzrCt1\n",
       "SJHuKG9VTKvTJBWY4BYkQwGCG7Qosnfh5zArtzY19I/lYLEhsoFLm0F4KAXfsRwYpfxsxyMQR5Fo\n",
       "g10oAkF8Bdt/7p68r7zD41fKHl3ZeCEvc0Lfd4gr11xKXKQatkXD0zxFYG7dIEBonc8webQkt7/E\n",
       "Q21/8uOBXVH/fzptqzj1r59RHnunUH4lWiNsisanA7+ckmkn6qZojUBlMVIDS+EfF529Qpn2B1lG\n",
       "Zg9c5vXSOFccoE12aTQFLD/R4Vgv36LDuleX3PmBxWmF1dpoTBzScKQnPkoX2R391oDtKgjpMmZ8\n",
       "7BLKGshRUJBceHEFj9g8mJBYw1zi4fCcCPZ6weNrSYJUc1C5nPMJCQ3xzQxXhC3immoR0ruLolV7\n",
       "0DRUBfFHAMVu324kqrehZbw/RMx43r2CRHoNdKbFB4E5bPUgxVe0pLDHg3R/EVdAlJ9Jl6d8++2Z\n",
       "5bF1BGGN56pPNgq8sqZb8pkswdWwfryTyVF+yNosIogzi0YCsh0mOJrf+uoSDSCkY4o/T9oCOqnw\n",
       "sCUJ0ZAeCTo9QxutnWdsJQEmoPbM5CPKLdA+GiX0e0cbJdnMWFkuASimf55HfH6RJBnM0FsMZUim\n",
       "FqbcLEFs9xrmDtRAgr+4kiYhTLSXyONscOAQC4HrnyEq6IO0MUaEWx0oBjnZUY7qNMGhe3L8i0Dl\n",
       "kB4SberbENS5pXcyBvKR3Bid65h9Lvu6pkrCo4AztysGcdvKzBCPFumgxVeAP3eb2WhUTTBp1MjX\n",
       "hh70A9vBv0SdkOcg9iiKiC2xQIhs6oiuV9dHBuTNjL72hvWxUSKRZBPRnN+OBmXmFLvmUWjvZcHt\n",
       "1Vj+QmTDE3GKVldjjo+j1OPkSOEE4eud9jt5TXcDZD9sk+ojq3TlxpK/yNdwfUk6pHi7t44XlbQv\n",
       "FVwoWLko6e89l7fe1rC9nyqlqakTMCxLMpHXsGsR0W1ehKW53q09h1Cdi3j8H0JVC3vqHSPPAK5m\n",
       "CV2VZEy1MIp+m3aj5cqfSK4t/9NddNW5sfVYXh6q7d1Q2hy84F5H8dIf3aOPuA2Ul6TToxz6KRsK\n",
       "cmYblgnsHO/WvUB+mH3r5n6YdSUGodcznjXhp+unHpjQKtF6jyQZ1AoyuFpxhlsyZL0V8kcZgpWE\n",
       "C84Ou7Rti4WsaUnIQGicHA8+0Kn5iq8QCKuJSn0EsxLykY7IBOsGzAWvgbO3jYlBUEQVMjnE13u7\n",
       "mJHIuewy4QAAAPJBn5ZFFSw7/wAJxSofVdABD/wZ+Cu33RjkB7TrQby1aLksmDEvewUOnnzuYm3U\n",
       "+SyN4ZvjFGoV5htTZu7Ur27Z1/fQV9jt3xgMlC+NLi+6B3s2Qm+WXyLQIYHGmhWEPVp4BBgyexCJ\n",
       "aK9XkCDDUBwg4HSDMGZbR6nPSA/7Y/ulLrXv9vCTsYx1DuZyACksoD04Ng9aix5qWdgu6VBrhVAR\n",
       "XStRzrSLK2Ern7sWSiN5eAMjh2unYvYLys4vnO7hKJkE9uQaAo3anfIcrP5xuOKXDKiW2D+FvuY6\n",
       "s9qbjxKqA5aLN12qiKVd8pj0efY43JgPSAAAAB8Bn7V0Q38ADc9YANIgN6Yq7sbwUrBsHkUqB9Js\n",
       "AHHBAAAAGQGft2pDfwAN0XYXiS72/TsCd5hm5JiAA1MAAAOqQZu8SahBbJlMCCP//rUqgAJjm5z5\n",
       "oAFqiEsAwuwLEUO+ZzzpO4k5qUTKUjfaLtI293uVFvbP7XWgc9JHORvGsw8dMhew5CyP6pzDhG5y\n",
       "9TmjbSNonB1qD4XXOkolyKUOrk0rT6+YL1LqvSluqN+30sgecx2XbBZEcKpm5p1iPiwAm/SFl5Tl\n",
       "Xhyass7X3AKr6zgAoZh6uCHuh28IChKcgs84EHZvqMRCXiRdQADwSCCnVewC0pt9lFNngZUPIiDY\n",
       "0QWUuRYPiucAzOeDrVIFTTvOR7HXyU9osD335zJZh87auPspULdlYoUC2QhbMN/mYGsuLkX+l8Qy\n",
       "GYAIdQ/VbG0PB9ts3f+XGE3YGW1HMv3Mu7lAVuw/x1P5NDsnEMFV5W2p7NsqIOGNrn48PKj2EFbr\n",
       "ebbi8KP2pqstMDAWbdiqkXFfZXpeLqct8b1BqIj+ukKrb7Ngik3OCKFQOthGG24z/v44vjPJ4Mih\n",
       "FmGhpYuiSwchTqM57i4FyX3d4bPRod6ebBbUfd3G+WlhrCee6qysP0MtTNA8arVQVNZ4MiGSmths\n",
       "gf8QQDggjmYb45Bo4qlMBXlzakyIKWuhvYtnqF5LfrH36REaMYsDPvhMEwHmtjHU+R0SxV582e20\n",
       "+wg20mgS32U3eKepTO6WTVrtvQ7NRAS98M7viG+Khn1zV846brC1v1hAzTsMJkbX4KMBv6jll1co\n",
       "TQAGG4FwU+Xata651zoo/HnXqVcUMN5ol4tN623mfDTNfhjjppDidGiauhluL4g3INUzL2Nc+eVk\n",
       "/CaSSRTIDMnJWU8fXO+a86kb5yDUgsPCrFfu+KFJDQ9ETmqKLbmN3si3pn4yOCJ9TCKN5wvh42aT\n",
       "H3DL5B7tRzBNjVLYWs6kWlLcp8xjjvxmYDh0utlndLpp3ISi80SFIW3wW02EYqZvBedu4z0nY2x+\n",
       "VsFbc9hXJEmj5+xh43aA8ciThaQDLLdFQdqqmJ1uwiyOZ3gcM++VZySmywzW/WCg+oZteK3mknJn\n",
       "vCjInMIeu/m2bDcsZ7+h0rcjCn3vEoolLsCFZNd/Mb2DRvnJtzWPcf8N2dnwUsVAotquVRe4Ke6n\n",
       "NysXoyv7UpBr5w54tAVygPT49MhJdfG06CDRAg7Yi4tI0givOw+tV5ludm79Q8GcSfxWlb86ilXR\n",
       "ORb7t3x0xCIxwKfC4GPPrOddtGU0Z/DQf5g99L7w+iAUZR6HQ4sN3zCqWHaZQZqnGF2jnyOGCT9X\n",
       "+TTnL6EAAAEJQZ/aRRUsO/8ACcUqH1XQARAiCN0kGPjHH2qBWk2E6ahUsX/5s3/GxkwobS+ELaD8\n",
       "2+a2RfrNUrRAgmr3PfhiFuKXEjF/GDgS3MG0MEiYNnWclluG4LHKp/c8jtOIgQ8sxMl8mWjP6RJ3\n",
       "vrRgv8dDZriFrlDAPZdfdVPso4eQq3b1Mg865Uu/alGqIFPh1ybMv8DyeaCUjcuI2NR/lBVJttMs\n",
       "d88e4iaKMtey9q/FXQsl8zpG+JvC/L8UAReFoZTxwOWkvcSBJpcD+LsH1bD3nxU/NbtNDThl58cF\n",
       "2osKdEgC1FzCK1cBIZp6yt9GTdwByFkSiIks4AzPz1Eshad7+ooi1B7dN2rXwQAAABcBn/l0Q38A\n",
       "Dc9YD1PdBpkcP7zsvz4IWAAAABUBn/tqQ38ADdF2J3ee/sQ4HnJdwwMAAAOpQZvgSahBbJlMCCH/\n",
       "/qpVAATFo5o1ABuPnu7uvMX5EQgL0hVPq6hyd7Suq1HJAskR/u7i0KgbbEcRPFAOH8gQPRYLWFmQ\n",
       "nFV6JkXhTofpyIZH9gZQ/ussd8q5H64NtP13n/sB/DB+EKP6g7OBLER5j9KVML8c1FdTPf6SbIE/\n",
       "t0JAkDT1NaTX4JNlv6dkQrAfysrS/grrIBRt//vrFJ5eS5qWuNcCxfYv0Z6/59u/WaVfEZraD2AS\n",
       "et/IC/wCPFjwPtRT6G9wwBqVadL/bi9oTIwb3T/V9B5o0KvleDN/aFVwRSytM2r6kPFZAB7NT3wx\n",
       "a8QUUPZA1+HtAYHKwpBix8QtqZCdZiA3kGs1vUuycEqzjhI48FYmcCm9bHGOtbbVvAzazQM2JbJm\n",
       "tnq0ECfLlJz4up4sHkuES1r7eAgbuHIi2oSlLhzWHp/tSBLcrfCNVNyZUfir20+M3ceNecSqK0nT\n",
       "dFBvtDnGQ0gvBSFfeBcuSpNxUrKjatGZIIUpk2e7WHOYdoo5grZE2C43BIJBlT23xEVcQeJd+vAB\n",
       "hJACqfL/tdYHpm56BlrDPtF2/rlOvolw4sFwTMUm3LLe6LASgiYvv+BTbLLCTDR8gZYPnutE7owf\n",
       "zcF0hoFS/aMMEUY9RAn51dkulB5HCXcNy3iT/2eUB7Y84DA+Ns/D/LP05g4MGG7sBH8eytzmfUi3\n",
       "t2BeMbFpWHe48Qv9rdiRDaeF3jhbTBfxgHTJmIXDweN1py38G8h9r3wKXD8mQHWDFrVtJ2iTIhfE\n",
       "0p014mFpoqsuqxobTp0r1EYK4oab90EmTy0cxjefuQ4/o+7iz3Q/IIGMSnsQHGUCuwqucH+H59hH\n",
       "iqb97tdji1aXFjLP5B3RMmrsTxZH5qdIbVJnE0fwJAGkhW/oR/LgMHTMUaRDam0gVAMO5ocAnsnj\n",
       "Y9Dn4zLdfhq9Pl6PkgvI3CKjZg/M6uKLqFUTMpkay2GqmoK9eavBQE1dyBbdcuYkOoA99g4AIBn4\n",
       "H/OALwOqvW0TBPkR82Ji1OcHWWHV/kC3C7XEyNoZvDiReh72wdfiB6zEGbKxnzs/Tr2mt8g162ZX\n",
       "C2cv9KBLPlJ1IxkgibL15d47qL0bu5XJxnypQlFqZPDGNfjG6i6l9HuBIRRYzk+o4j3OIVKpcCcS\n",
       "z7Wdu0CdAUQr0UuvlkApEV+a2xiMmGv+hxEofcd3IeLIoz1yMYmVfXox5pnSuGhUAcNExOValc5m\n",
       "V7YExX4b1IsyMjd2UQAAAQJBnh5FFSw7/wAJxSofVdABEDOvdYkbaeYOQHmytfGXCImY+S2mat03\n",
       "f/3qrSaufABrGkB+e/MJsAPiKC8Fio750KhAQVbYW71Cwlls79RYO/DzPAEonDHT1kWfnQYWdm0M\n",
       "2JHUCQ2HgeZe3tq8LWmTfQKuQ9RTBkwWXfGYrPTGEBSrhiVB9z9o3Eyl+Mia3X+sHem80HlEbFkD\n",
       "E0QaR7QOYTHVumWfebvYHdcxKvr8llAZniuh+2IRPQR6S9pfoxnoptkOZL75nReoY8Clk+N6GjbN\n",
       "bbGu8fMEBXodFYDMLXqqOdU5caLWfLWYfCOayl/Q7Z2g7d+TDufp2ennz3bAqqAAAAAcAZ49dEN/\n",
       "AA3PV/j2AdkiufKIUvVuc7/dUugTcAAAABoBnj9qQ38ADdF2QG8+MKzUrjvcgqKugADjgQAAAyBB\n",
       "miRJqEFsmUwIf//+qZYAEwPmqACdvkSum5l+nrwZpb2dM0UorL4NKNS5PmIpWGf7zN43pQCGKj4a\n",
       "HdGTjQ9gZsfIfbyNa0DvC5o4B2HmvDr7gEFOzmnbMRcPTv5iL+j13jUzHMQ7kjdpEE2PUj8Bgpwa\n",
       "M4IO5X/HMXMyzYIwtfKJzQIo4akGFE4198oleHWRt3s7FL2yMQEC27sbh5MWUKqY8WLIQxlbG20o\n",
       "oDmVXPlz037EzUeJGXhOh48Eo0RFojSrLlazZkmRpvNz8eYEES/NC9ypFuBW9p51fIVf7D1k8ruz\n",
       "f17lnRZyRCBKx6XnWI+b7urnwaOh+SnenfIglTbg7uALGEwdX0hqlSUcQLO6EpM2QCOdU8kQBGOV\n",
       "5JBHCmqz7kNYcqXdRu1wjxu6T3jNBmWcVgjOrQXasw9ieTc9Idshxx2/jxudH+xOVIUcPHgQ4DbF\n",
       "7UsfIbnj8e/rMjdgoNz+JgPAOwqY9yeIGlLVjEoFSM41rssDXsSry5pHoTKc7n0G4OurRfNS7UGI\n",
       "NcnTE1I6XooCn6tnEcikstSdw88YNWG+lXmins3TdzR5zZWbtUcKehawAaW3xuq6sJFmkq7MrtXQ\n",
       "HjtKPdM38+KHou+qGGSutmGB4oenr4x3GJw+n1OgRElBKP0poJSZQDlgO1UTt5o3cG9UxM+EQ/aG\n",
       "Zy+b3fLy77qQfl0ZPAVaz4Oqf7l4qUGan9zj4YltyrXTjaSEwU9jUd/e2Yguat0Tl4/LY+0L5+v0\n",
       "/Hp8r2YQYueNC0/mmjtYGJHh4G4ReHt436nv7wVO+oB/NmnPwn+2wk2FKAnHNqKJkbQZjoftiDJj\n",
       "3LaDw2uLDPHhdM0o3xhOQ2ruQpn2DuVxmwteJ9sFCc9vLrODv63IZ0/fvCB/+SSfJfqRsz/JYxSO\n",
       "Q7XtYrxW49Z7apk0zXwbz2tKxWcZc/G+atP7gH62diAQwrPHk+qtNgKGmUAliKBkzDxz052x/HeC\n",
       "3SioYcXqmhg3S60IzHgSRLpWRAXpS170x7hdqkz1pYEVs6odcNiybQinAaSOU+qKq2XEukXdxfWs\n",
       "IAAAAPtBnkJFFSw7/wAJxSofVdABDx2+DbYczeQcdQcfa19H2pW7yO6adFQYnMF263XY8kLF7225\n",
       "SR1l8jcI92Zbzrx/Wdltz+MrKWt4RaRTvkGO4iyL6sVArmSKQR7XgwXsisGnhP9Y9PKkYCORfgkl\n",
       "xQ0RR/IYk3qubv56BszrBUyBrVQvo9ASETyPBX3Jzg4CQF1/BDh5+tIgFdIpBx3P53HMt/BtBXCA\n",
       "iGbglHTK/dLsiP8cvJQcElgoVi4gcHjvuN6z9z/Icfzr40moMMuBFrX7+4661yUVaT1Os2h3IOd5\n",
       "kqOvnHqt/WgcjhCkMwi3yVS/cv7qKjj4gzoEjQAAABcBnmF0Q38ADc9X846uj3sM6WuN1YoYEAAA\n",
       "ABsBnmNqQ38ADdF4AR/Ryy1qr8/+VGRmBQiMAUEAAAHDQZpnSahBbJlMCG///qeEACWl83ABzlyE\n",
       "uaADneoERQgjtXQQ/MebDPdAnsofLfNWwbwq7EcY/bigFfbgjpb7cVIq1KgzvLy/TBXXOmwGejBY\n",
       "IdWZmHSRJ5SF/s1W94oL3MP8Mdks7GEL19ZYOW/mFPCzU6U8ZhkMuIu6/r0GAW7cBf13gD4Uo042\n",
       "ddcTj9ylS7rCMRq/o94vpIMRAFqPEv9ml91m4v4Rw31zxAXU5l5IMqhnKH5VbV59/TJqYqrVzMwX\n",
       "4AKHp/0tzNlbZx2Aa1a8lJGGBQgJymUe3ofhSuAecj3G1UiS0T6MMer8gDHV0dtEYrPU4oc9LlAO\n",
       "MS1vNzVHJ9JnoJIokwVVNZD+e1XlU3ynVXi36EuUQvc/KSk27Xtb+L+SiE4AHvF2ryZO9nIW9Q4o\n",
       "rwWsMtkXkCVZkSWj9BEq0h2QF3sU4H3IHYTc+roI5ziq0HnQQqMpZsqJSMqVKS2wBZXRjIjvtpdt\n",
       "OYQ15TRXoQjUfcgdpcFhBPwOwTkT8w3eVNPXxyBvl66S9cDQRqAIldP5m54/qgeYlh2H/7iPiawy\n",
       "wu6BkHahiKJ+LTmOjND8J4+UdAG/81fbIystgQAAAC1BnoZCG/8ADdKaJZ2b+V6H6BTdZ6r7faGK\n",
       "hOCDYYBvDZZYSY3WJtvAZsAoAtsAAAAYAZ6laRDfAA3PV/WyO4GaDDu82Bj+8C2hAAAFD21vb3YA\n",
       "AABsbXZoZAAAAAAAAAAAAAAAAAAAA+gAAA+gAAEAAAEAAAAAAAAAAAAAAAABAAAAAAAAAAAAAAAA\n",
       "AAAAAQAAAAAAAAAAAAAAAAAAQAAAAAAAAAAAAAAAAAAAAAAAAAAAAAAAAAAAAAAAAAIAAAQ5dHJh\n",
       "awAAAFx0a2hkAAAAAwAAAAAAAAAAAAAAAQAAAAAAAA+gAAAAAAAAAAAAAAAAAAAAAAABAAAAAAAA\n",
       "AAAAAAAAAAAAAQAAAAAAAAAAAAAAAAAAQAAAAAH0AAABkAAAAAAAJGVkdHMAAAAcZWxzdAAAAAAA\n",
       "AAABAAAPoAAACAAAAQAAAAADsW1kaWEAAAAgbWRoZAAAAAAAAAAAAAAAAAAAKAAAAKAAVcQAAAAA\n",
       "AC1oZGxyAAAAAAAAAAB2aWRlAAAAAAAAAAAAAAAAVmlkZW9IYW5kbGVyAAAAA1xtaW5mAAAAFHZt\n",
       "aGQAAAABAAAAAAAAAAAAAAAkZGluZgAAABxkcmVmAAAAAAAAAAEAAAAMdXJsIAAAAAEAAAMcc3Ri\n",
       "bAAAALRzdHNkAAAAAAAAAAEAAACkYXZjMQAAAAAAAAABAAAAAAAAAAAAAAAAAAAAAAH0AZAASAAA\n",
       "AEgAAAAAAAAAAQAAAAAAAAAAAAAAAAAAAAAAAAAAAAAAAAAAAAAAAAAAABj//wAAADJhdmNDAWQA\n",
       "Fv/hABlnZAAWrNlAgDPn4QAAAwABAAADABQPFi2WAQAGaOvjyyLAAAAAHHV1aWRraEDyXyRPxbo5\n",
       "pRvPAyPzAAAAAAAAABhzdHRzAAAAAAAAAAEAAAAoAAAEAAAAABRzdHNzAAAAAAAAAAEAAAABAAAB\n",
       "UGN0dHMAAAAAAAAAKAAAAAEAAAgAAAAAAQAAFAAAAAABAAAIAAAAAAEAAAAAAAAAAQAABAAAAAAB\n",
       "AAAUAAAAAAEAAAgAAAAAAQAAAAAAAAABAAAEAAAAAAEAABQAAAAAAQAACAAAAAABAAAAAAAAAAEA\n",
       "AAQAAAAAAQAAFAAAAAABAAAIAAAAAAEAAAAAAAAAAQAABAAAAAABAAAUAAAAAAEAAAgAAAAAAQAA\n",
       "AAAAAAABAAAEAAAAAAEAABQAAAAAAQAACAAAAAABAAAAAAAAAAEAAAQAAAAAAQAAFAAAAAABAAAI\n",
       "AAAAAAEAAAAAAAAAAQAABAAAAAABAAAUAAAAAAEAAAgAAAAAAQAAAAAAAAABAAAEAAAAAAEAABQA\n",
       "AAAAAQAACAAAAAABAAAAAAAAAAEAAAQAAAAAAQAAEAAAAAABAAAIAAAAAAEAAAAAAAAAHHN0c2MA\n",
       "AAAAAAAAAQAAAAEAAAAoAAAAAQAAALRzdHN6AAAAAAAAAAAAAAAoAAAhxwAABLMAAAFWAAAATAAA\n",
       "AEIAAAQ1AAABKgAAAC8AAAAsAAAEVgAAASsAAAAgAAAAHwAABAYAAAEZAAAAJQAAACMAAAQDAAAB\n",
       "LAAAAB4AAAAcAAAD/wAAAPYAAAAjAAAAHQAAA64AAAENAAAAGwAAABkAAAOtAAABBgAAACAAAAAe\n",
       "AAADJAAAAP8AAAAbAAAAHwAAAccAAAAxAAAAHAAAABRzdGNvAAAAAAAAAAEAAAAsAAAAYnVkdGEA\n",
       "AABabWV0YQAAAAAAAAAhaGRscgAAAAAAAAAAbWRpcmFwcGwAAAAAAAAAAAAAAAAtaWxzdAAAACWp\n",
       "dG9vAAAAHWRhdGEAAAABAAAAAExhdmY1Ni40MC4xMDE=\n",
       "\">\n",
       "  Your browser does not support the video tag.\n",
       "</video>"
      ],
      "text/plain": [
       "<matplotlib.animation.FuncAnimation at 0x7fb5fd1c4ed0>"
      ]
     },
     "execution_count": 13,
     "metadata": {},
     "output_type": "execute_result"
    }
   ],
   "source": [
    "fig = plt.figure(dpi=100, figsize=(5, 4))\n",
    "plt.scatter(x,y)\n",
    "line, = plt.plot(x,lin(a_guess,b_guess,x))\n",
    "plt.close()\n",
    "\n",
    "def animate(i):\n",
    "    line.set_ydata(lin(a_guess,b_guess,x))\n",
    "    for i in range(10): upd()\n",
    "    return line,\n",
    "#sudo apt install ffmpeg\n",
    "ani = animation.FuncAnimation(fig, animate, np.arange(0, 40), interval=100)\n",
    "ani"
   ]
  },
  {
   "cell_type": "code",
   "execution_count": null,
   "metadata": {
    "collapsed": true
   },
   "outputs": [],
   "source": []
  }
 ],
 "metadata": {
  "anaconda-cloud": {},
  "kernelspec": {
   "display_name": "Python [default]",
   "language": "python",
   "name": "python2"
  },
  "language_info": {
   "codemirror_mode": {
    "name": "ipython",
    "version": 2
   },
   "file_extension": ".py",
   "mimetype": "text/x-python",
   "name": "python",
   "nbconvert_exporter": "python",
   "pygments_lexer": "ipython2",
   "version": "2.7.12"
  },
  "nav_menu": {},
  "toc": {
   "navigate_menu": true,
   "number_sections": true,
   "sideBar": true,
   "threshold": 6,
   "toc_cell": true,
   "toc_section_display": "block",
   "toc_window_display": false
  }
 },
 "nbformat": 4,
 "nbformat_minor": 0
}
